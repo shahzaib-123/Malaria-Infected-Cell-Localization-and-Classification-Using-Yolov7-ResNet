{
  "nbformat": 4,
  "nbformat_minor": 0,
  "metadata": {
    "colab": {
      "provenance": []
    },
    "kernelspec": {
      "name": "python3",
      "display_name": "Python 3"
    },
    "language_info": {
      "name": "python"
    }
  },
  "cells": [
    {
      "cell_type": "code",
      "execution_count": null,
      "metadata": {
        "id": "7VLou9l1Y2gA"
      },
      "outputs": [],
      "source": [
        "import os\n",
        "import numpy as np\n",
        "from tensorflow.keras.preprocessing.image import ImageDataGenerator, img_to_array, load_img\n",
        "\n",
        "base_dir = \"/content/drive/MyDrive/Malaria/Cells\"\n",
        "categories = [\"difficult\", \"gametocyte\", \"leukocyte\", \"rbc\", \"ring\", \"schizont\", \"trophozoite\"]\n",
        "\n",
        "datagen = ImageDataGenerator(\n",
        "    rotation_range=30,\n",
        "    width_shift_range=0.2,\n",
        "    height_shift_range=0.2,\n",
        "    shear_range=0.2,\n",
        "    zoom_range=0.2,\n",
        "    horizontal_flip=True,\n",
        "    fill_mode='nearest'\n",
        ")\n",
        "\n",
        "def augment_and_save_images(image_dir, target_count):\n",
        "    images = [f for f in os.listdir(image_dir) if f.endswith(('jpg', 'jpeg', 'png'))]\n",
        "    current_count = len(images)\n",
        "    images_to_generate = target_count - current_count\n",
        "\n",
        "    if images_to_generate > 0:\n",
        "        for image_name in images:\n",
        "            image_path = os.path.join(image_dir, image_name)\n",
        "            image = load_img(image_path)\n",
        "            image_array = img_to_array(image)\n",
        "            image_array = np.expand_dims(image_array, axis=0)\n",
        "\n",
        "            i = 0\n",
        "            for batch in datagen.flow(image_array, batch_size=1, save_to_dir=image_dir, save_prefix=\"augmented_\"+image_name.split('.')[0], save_format='jpeg'):\n",
        "                i += 1\n",
        "                if len(os.listdir(image_dir)) >= target_count:\n",
        "                    break\n",
        "\n",
        "target_count = 3000\n",
        "\n",
        "for category in categories:\n",
        "    category_dir = os.path.join(base_dir, category)\n",
        "    augment_and_save_images(category_dir, target_count)\n",
        "\n",
        "print(\"Data augmentation completed and dataset balanced to 3000 images per class.\")"
      ]
    },
    {
      "cell_type": "code",
      "source": [],
      "metadata": {
        "id": "FzsIqDlecXxs"
      },
      "execution_count": null,
      "outputs": []
    }
  ]
}