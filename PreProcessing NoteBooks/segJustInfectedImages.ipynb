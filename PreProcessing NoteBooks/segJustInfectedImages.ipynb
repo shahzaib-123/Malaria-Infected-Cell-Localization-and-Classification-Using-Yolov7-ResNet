{
  "nbformat": 4,
  "nbformat_minor": 0,
  "metadata": {
    "colab": {
      "provenance": []
    },
    "kernelspec": {
      "name": "python3",
      "display_name": "Python 3"
    },
    "language_info": {
      "name": "python"
    }
  },
  "cells": [
    {
      "cell_type": "code",
      "source": [
        "import pandas as pd\n",
        "import os\n",
        "import shutil"
      ],
      "metadata": {
        "id": "ybfnTu922Lqg"
      },
      "execution_count": null,
      "outputs": []
    },
    {
      "cell_type": "code",
      "source": [
        "train_csv_path = '/content/drive/MyDrive/Malaria/malaria/train_data.csv'\n",
        "test_csv_path = '/content/drive/MyDrive/Malaria/malaria/test_data.csv'\n",
        "image_directory = '/content/drive/MyDrive/Malaria/malaria/malaria/images'\n",
        "output_directory = '/content/drive/MyDrive/Malaria/JustInfected'"
      ],
      "metadata": {
        "id": "FtfYKIc72Ln6"
      },
      "execution_count": null,
      "outputs": []
    },
    {
      "cell_type": "code",
      "source": [
        "infected_categories = ['difficult','gametocyte', 'ring', 'trophozoite', 'schizont']"
      ],
      "metadata": {
        "id": "46Gd0wRd2Lli"
      },
      "execution_count": null,
      "outputs": []
    },
    {
      "cell_type": "code",
      "source": [
        "train_df = pd.read_csv(train_csv_path)\n",
        "test_df = pd.read_csv(test_csv_path)"
      ],
      "metadata": {
        "id": "8Al_qm5K2LjM"
      },
      "execution_count": null,
      "outputs": []
    },
    {
      "cell_type": "code",
      "source": [
        "train_df.category.unique()"
      ],
      "metadata": {
        "colab": {
          "base_uri": "https://localhost:8080/"
        },
        "id": "ntbzLd_F3KIP",
        "outputId": "ba90c305-f80a-444a-9245-ca32b98bf025"
      },
      "execution_count": null,
      "outputs": [
        {
          "output_type": "execute_result",
          "data": {
            "text/plain": [
              "array(['red blood cell', 'trophozoite', 'schizont', 'difficult', 'ring',\n",
              "       'leukocyte', 'gametocyte'], dtype=object)"
            ]
          },
          "metadata": {},
          "execution_count": 30
        }
      ]
    },
    {
      "cell_type": "code",
      "source": [
        "combined_df = pd.concat([train_df, test_df])"
      ],
      "metadata": {
        "id": "lueEfApJ2Lga"
      },
      "execution_count": null,
      "outputs": []
    },
    {
      "cell_type": "code",
      "source": [
        "infected_cells_df = combined_df[combined_df['category'].isin(infected_categories)]"
      ],
      "metadata": {
        "id": "QeCiWxkJ2LWV"
      },
      "execution_count": null,
      "outputs": []
    },
    {
      "cell_type": "code",
      "source": [
        "infected_cells_df.category.unique()"
      ],
      "metadata": {
        "colab": {
          "base_uri": "https://localhost:8080/"
        },
        "id": "RrcJ_7_a2lhn",
        "outputId": "66117e82-80d9-4ede-99b0-fa215b4bd4d3"
      },
      "execution_count": null,
      "outputs": [
        {
          "output_type": "execute_result",
          "data": {
            "text/plain": [
              "array(['trophozoite', 'schizont', 'difficult', 'ring', 'gametocyte'],\n",
              "      dtype=object)"
            ]
          },
          "metadata": {},
          "execution_count": 33
        }
      ]
    },
    {
      "cell_type": "code",
      "source": [
        "infected_images = infected_cells_df['ImagePAth'].unique()"
      ],
      "metadata": {
        "id": "URXA4HxY2LTn"
      },
      "execution_count": null,
      "outputs": []
    },
    {
      "cell_type": "code",
      "source": [
        "for image in infected_images:\n",
        "    source_path = os.path.join(image_directory, image[7:])\n",
        "    destination_path = os.path.join(output_directory, os.path.basename(image))\n",
        "    if os.path.exists(source_path):\n",
        "        shutil.copy(source_path, destination_path)\n",
        "    else:\n",
        "        print(f\"Image not found: {source_path}\")\n",
        "\n",
        "print(f\"\\nFiltered images with infected cells saved in: {output_directory}\")\n",
        "infected_cells_df.to_csv('/content/drive/MyDrive/Malaria/infected_only.csv', index=False)"
      ],
      "metadata": {
        "colab": {
          "base_uri": "https://localhost:8080/"
        },
        "id": "mET5e_UE1ZKS",
        "outputId": "4193942f-3932-457c-849b-71a32969905e"
      },
      "execution_count": null,
      "outputs": [
        {
          "output_type": "stream",
          "name": "stdout",
          "text": [
            "\n",
            "Filtered images with infected cells saved in: /content/drive/MyDrive/Malaria/JustInfected\n"
          ]
        }
      ]
    },
    {
      "cell_type": "code",
      "source": [
        "infected_images.shape"
      ],
      "metadata": {
        "colab": {
          "base_uri": "https://localhost:8080/"
        },
        "id": "uJGuqfU917Jg",
        "outputId": "a61e732a-098f-424a-baf7-b8a2f9ba844a"
      },
      "execution_count": null,
      "outputs": [
        {
          "output_type": "execute_result",
          "data": {
            "text/plain": [
              "(1136,)"
            ]
          },
          "metadata": {},
          "execution_count": 40
        }
      ]
    },
    {
      "cell_type": "code",
      "source": [
        "infected_cells_df.sample()"
      ],
      "metadata": {
        "colab": {
          "base_uri": "https://localhost:8080/",
          "height": 115
        },
        "id": "OiYNwlQL36tI",
        "outputId": "afd9bf72-3aea-4de4-dfd4-54ac6695d78d"
      },
      "execution_count": null,
      "outputs": [
        {
          "output_type": "execute_result",
          "data": {
            "text/plain": [
              "                                             ImagePAth     category  x_min  \\\n",
              "56017  images/177a3141-fa93-426a-9b52-7da71547ce44.png  trophozoite  898.0   \n",
              "\n",
              "       y_min   x_max  y_max      w      h  x_center  y_center  img_width  \\\n",
              "56017  822.0  1019.0  967.0  121.0  145.0     958.5     894.5       1600   \n",
              "\n",
              "       img_height  channels   pixels  \n",
              "56017        1200         3  5760000  "
            ],
            "text/html": [
              "\n",
              "  <div id=\"df-38078ee9-4ca0-42f0-b2fd-870c737b8303\" class=\"colab-df-container\">\n",
              "    <div>\n",
              "<style scoped>\n",
              "    .dataframe tbody tr th:only-of-type {\n",
              "        vertical-align: middle;\n",
              "    }\n",
              "\n",
              "    .dataframe tbody tr th {\n",
              "        vertical-align: top;\n",
              "    }\n",
              "\n",
              "    .dataframe thead th {\n",
              "        text-align: right;\n",
              "    }\n",
              "</style>\n",
              "<table border=\"1\" class=\"dataframe\">\n",
              "  <thead>\n",
              "    <tr style=\"text-align: right;\">\n",
              "      <th></th>\n",
              "      <th>ImagePAth</th>\n",
              "      <th>category</th>\n",
              "      <th>x_min</th>\n",
              "      <th>y_min</th>\n",
              "      <th>x_max</th>\n",
              "      <th>y_max</th>\n",
              "      <th>w</th>\n",
              "      <th>h</th>\n",
              "      <th>x_center</th>\n",
              "      <th>y_center</th>\n",
              "      <th>img_width</th>\n",
              "      <th>img_height</th>\n",
              "      <th>channels</th>\n",
              "      <th>pixels</th>\n",
              "    </tr>\n",
              "  </thead>\n",
              "  <tbody>\n",
              "    <tr>\n",
              "      <th>56017</th>\n",
              "      <td>images/177a3141-fa93-426a-9b52-7da71547ce44.png</td>\n",
              "      <td>trophozoite</td>\n",
              "      <td>898.0</td>\n",
              "      <td>822.0</td>\n",
              "      <td>1019.0</td>\n",
              "      <td>967.0</td>\n",
              "      <td>121.0</td>\n",
              "      <td>145.0</td>\n",
              "      <td>958.5</td>\n",
              "      <td>894.5</td>\n",
              "      <td>1600</td>\n",
              "      <td>1200</td>\n",
              "      <td>3</td>\n",
              "      <td>5760000</td>\n",
              "    </tr>\n",
              "  </tbody>\n",
              "</table>\n",
              "</div>\n",
              "    <div class=\"colab-df-buttons\">\n",
              "\n",
              "  <div class=\"colab-df-container\">\n",
              "    <button class=\"colab-df-convert\" onclick=\"convertToInteractive('df-38078ee9-4ca0-42f0-b2fd-870c737b8303')\"\n",
              "            title=\"Convert this dataframe to an interactive table.\"\n",
              "            style=\"display:none;\">\n",
              "\n",
              "  <svg xmlns=\"http://www.w3.org/2000/svg\" height=\"24px\" viewBox=\"0 -960 960 960\">\n",
              "    <path d=\"M120-120v-720h720v720H120Zm60-500h600v-160H180v160Zm220 220h160v-160H400v160Zm0 220h160v-160H400v160ZM180-400h160v-160H180v160Zm440 0h160v-160H620v160ZM180-180h160v-160H180v160Zm440 0h160v-160H620v160Z\"/>\n",
              "  </svg>\n",
              "    </button>\n",
              "\n",
              "  <style>\n",
              "    .colab-df-container {\n",
              "      display:flex;\n",
              "      gap: 12px;\n",
              "    }\n",
              "\n",
              "    .colab-df-convert {\n",
              "      background-color: #E8F0FE;\n",
              "      border: none;\n",
              "      border-radius: 50%;\n",
              "      cursor: pointer;\n",
              "      display: none;\n",
              "      fill: #1967D2;\n",
              "      height: 32px;\n",
              "      padding: 0 0 0 0;\n",
              "      width: 32px;\n",
              "    }\n",
              "\n",
              "    .colab-df-convert:hover {\n",
              "      background-color: #E2EBFA;\n",
              "      box-shadow: 0px 1px 2px rgba(60, 64, 67, 0.3), 0px 1px 3px 1px rgba(60, 64, 67, 0.15);\n",
              "      fill: #174EA6;\n",
              "    }\n",
              "\n",
              "    .colab-df-buttons div {\n",
              "      margin-bottom: 4px;\n",
              "    }\n",
              "\n",
              "    [theme=dark] .colab-df-convert {\n",
              "      background-color: #3B4455;\n",
              "      fill: #D2E3FC;\n",
              "    }\n",
              "\n",
              "    [theme=dark] .colab-df-convert:hover {\n",
              "      background-color: #434B5C;\n",
              "      box-shadow: 0px 1px 3px 1px rgba(0, 0, 0, 0.15);\n",
              "      filter: drop-shadow(0px 1px 2px rgba(0, 0, 0, 0.3));\n",
              "      fill: #FFFFFF;\n",
              "    }\n",
              "  </style>\n",
              "\n",
              "    <script>\n",
              "      const buttonEl =\n",
              "        document.querySelector('#df-38078ee9-4ca0-42f0-b2fd-870c737b8303 button.colab-df-convert');\n",
              "      buttonEl.style.display =\n",
              "        google.colab.kernel.accessAllowed ? 'block' : 'none';\n",
              "\n",
              "      async function convertToInteractive(key) {\n",
              "        const element = document.querySelector('#df-38078ee9-4ca0-42f0-b2fd-870c737b8303');\n",
              "        const dataTable =\n",
              "          await google.colab.kernel.invokeFunction('convertToInteractive',\n",
              "                                                    [key], {});\n",
              "        if (!dataTable) return;\n",
              "\n",
              "        const docLinkHtml = 'Like what you see? Visit the ' +\n",
              "          '<a target=\"_blank\" href=https://colab.research.google.com/notebooks/data_table.ipynb>data table notebook</a>'\n",
              "          + ' to learn more about interactive tables.';\n",
              "        element.innerHTML = '';\n",
              "        dataTable['output_type'] = 'display_data';\n",
              "        await google.colab.output.renderOutput(dataTable, element);\n",
              "        const docLink = document.createElement('div');\n",
              "        docLink.innerHTML = docLinkHtml;\n",
              "        element.appendChild(docLink);\n",
              "      }\n",
              "    </script>\n",
              "  </div>\n",
              "\n",
              "\n",
              "    </div>\n",
              "  </div>\n"
            ],
            "application/vnd.google.colaboratory.intrinsic+json": {
              "type": "dataframe",
              "summary": "{\n  \"name\": \"infected_cells_df\",\n  \"rows\": 1,\n  \"fields\": [\n    {\n      \"column\": \"ImagePAth\",\n      \"properties\": {\n        \"dtype\": \"string\",\n        \"num_unique_values\": 1,\n        \"samples\": [\n          \"images/177a3141-fa93-426a-9b52-7da71547ce44.png\"\n        ],\n        \"semantic_type\": \"\",\n        \"description\": \"\"\n      }\n    },\n    {\n      \"column\": \"category\",\n      \"properties\": {\n        \"dtype\": \"string\",\n        \"num_unique_values\": 1,\n        \"samples\": [\n          \"trophozoite\"\n        ],\n        \"semantic_type\": \"\",\n        \"description\": \"\"\n      }\n    },\n    {\n      \"column\": \"x_min\",\n      \"properties\": {\n        \"dtype\": \"number\",\n        \"std\": null,\n        \"min\": 898.0,\n        \"max\": 898.0,\n        \"num_unique_values\": 1,\n        \"samples\": [\n          898.0\n        ],\n        \"semantic_type\": \"\",\n        \"description\": \"\"\n      }\n    },\n    {\n      \"column\": \"y_min\",\n      \"properties\": {\n        \"dtype\": \"number\",\n        \"std\": null,\n        \"min\": 822.0,\n        \"max\": 822.0,\n        \"num_unique_values\": 1,\n        \"samples\": [\n          822.0\n        ],\n        \"semantic_type\": \"\",\n        \"description\": \"\"\n      }\n    },\n    {\n      \"column\": \"x_max\",\n      \"properties\": {\n        \"dtype\": \"number\",\n        \"std\": null,\n        \"min\": 1019.0,\n        \"max\": 1019.0,\n        \"num_unique_values\": 1,\n        \"samples\": [\n          1019.0\n        ],\n        \"semantic_type\": \"\",\n        \"description\": \"\"\n      }\n    },\n    {\n      \"column\": \"y_max\",\n      \"properties\": {\n        \"dtype\": \"number\",\n        \"std\": null,\n        \"min\": 967.0,\n        \"max\": 967.0,\n        \"num_unique_values\": 1,\n        \"samples\": [\n          967.0\n        ],\n        \"semantic_type\": \"\",\n        \"description\": \"\"\n      }\n    },\n    {\n      \"column\": \"w\",\n      \"properties\": {\n        \"dtype\": \"number\",\n        \"std\": null,\n        \"min\": 121.0,\n        \"max\": 121.0,\n        \"num_unique_values\": 1,\n        \"samples\": [\n          121.0\n        ],\n        \"semantic_type\": \"\",\n        \"description\": \"\"\n      }\n    },\n    {\n      \"column\": \"h\",\n      \"properties\": {\n        \"dtype\": \"number\",\n        \"std\": null,\n        \"min\": 145.0,\n        \"max\": 145.0,\n        \"num_unique_values\": 1,\n        \"samples\": [\n          145.0\n        ],\n        \"semantic_type\": \"\",\n        \"description\": \"\"\n      }\n    },\n    {\n      \"column\": \"x_center\",\n      \"properties\": {\n        \"dtype\": \"number\",\n        \"std\": null,\n        \"min\": 958.5,\n        \"max\": 958.5,\n        \"num_unique_values\": 1,\n        \"samples\": [\n          958.5\n        ],\n        \"semantic_type\": \"\",\n        \"description\": \"\"\n      }\n    },\n    {\n      \"column\": \"y_center\",\n      \"properties\": {\n        \"dtype\": \"number\",\n        \"std\": null,\n        \"min\": 894.5,\n        \"max\": 894.5,\n        \"num_unique_values\": 1,\n        \"samples\": [\n          894.5\n        ],\n        \"semantic_type\": \"\",\n        \"description\": \"\"\n      }\n    },\n    {\n      \"column\": \"img_width\",\n      \"properties\": {\n        \"dtype\": \"number\",\n        \"std\": null,\n        \"min\": 1600,\n        \"max\": 1600,\n        \"num_unique_values\": 1,\n        \"samples\": [\n          1600\n        ],\n        \"semantic_type\": \"\",\n        \"description\": \"\"\n      }\n    },\n    {\n      \"column\": \"img_height\",\n      \"properties\": {\n        \"dtype\": \"number\",\n        \"std\": null,\n        \"min\": 1200,\n        \"max\": 1200,\n        \"num_unique_values\": 1,\n        \"samples\": [\n          1200\n        ],\n        \"semantic_type\": \"\",\n        \"description\": \"\"\n      }\n    },\n    {\n      \"column\": \"channels\",\n      \"properties\": {\n        \"dtype\": \"number\",\n        \"std\": null,\n        \"min\": 3,\n        \"max\": 3,\n        \"num_unique_values\": 1,\n        \"samples\": [\n          3\n        ],\n        \"semantic_type\": \"\",\n        \"description\": \"\"\n      }\n    },\n    {\n      \"column\": \"pixels\",\n      \"properties\": {\n        \"dtype\": \"number\",\n        \"std\": null,\n        \"min\": 5760000,\n        \"max\": 5760000,\n        \"num_unique_values\": 1,\n        \"samples\": [\n          5760000\n        ],\n        \"semantic_type\": \"\",\n        \"description\": \"\"\n      }\n    }\n  ]\n}"
            }
          },
          "metadata": {},
          "execution_count": 42
        }
      ]
    },
    {
      "cell_type": "code",
      "source": [
        "pd.DataFrame(infected_images,columns=['images_that_have_infected_cells.csv']).to_csv('/content/drive/MyDrive/Malaria/images_that_have_infected_cells.csv',index=False)"
      ],
      "metadata": {
        "id": "Lg0zK5Ih5oSB"
      },
      "execution_count": null,
      "outputs": []
    },
    {
      "cell_type": "code",
      "source": [],
      "metadata": {
        "id": "6zrjBJED5y8T"
      },
      "execution_count": null,
      "outputs": []
    }
  ]
}